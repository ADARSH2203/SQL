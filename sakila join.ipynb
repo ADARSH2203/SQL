{
 "cells": [
  {
   "cell_type": "markdown",
   "metadata": {},
   "source": [
    "Use “Sakila” database for the following questions\n",
    "\n",
    "Q1 Which actor has appeared in the most films? (‘107', 'GINA', 'DEGENERES',\n",
    "'42')\n",
    "\n",
    "Q2 What is the average length of films by category? (16 rows)\n",
    "\n",
    "Q3 Which film categories are long? (5 rows)\n",
    "\n",
    "Q4 How many copies of the film “Hunchback Impossible” exist in the inventory\n",
    "system? (6)\n",
    "\n",
    "Q5 Using the tables “payment” and “customer” and the JOIN command, list the\n",
    "total paid by each customer. List the customers alphabetically by last name (599\n",
    "rows)"
   ]
  },
  {
   "cell_type": "raw",
   "metadata": {},
   "source": []
  },
  {
   "cell_type": "code",
   "execution_count": null,
   "metadata": {},
   "outputs": [],
   "source": []
  }
 ],
 "metadata": {
  "kernelspec": {
   "display_name": "Python 3",
   "language": "python",
   "name": "python3"
  },
  "language_info": {
   "codemirror_mode": {
    "name": "ipython",
    "version": 3
   },
   "file_extension": ".py",
   "mimetype": "text/x-python",
   "name": "python",
   "nbconvert_exporter": "python",
   "pygments_lexer": "ipython3",
   "version": "3.7.6"
  }
 },
 "nbformat": 4,
 "nbformat_minor": 4
}
