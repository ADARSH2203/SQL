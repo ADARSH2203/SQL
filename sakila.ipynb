{
 "cells": [
  {
   "cell_type": "markdown",
   "metadata": {},
   "source": [
    "Use “Sakila” database for the following questions\n",
    "\n",
    "Q1 Display all tables available in the database “sakila”\n",
    "\n",
    "Q2 Display structure of table “actor”. (4 row)\n",
    "\n",
    "Q3 Display the schema which was used to create table “actor” and view the\n",
    "complete schema using the viewer. (1 row)\n",
    "\n",
    "Q4 Display the first and last names of all actors from the table actor. (200\n",
    "rows)\n",
    "\n",
    "Q5 Which actors have the last name ‘Johansson’. (3 rows)\n",
    "\n",
    "Q6 Display the first and last name of each actor in a single column in upper\n",
    "case letters. Name the column Actor Name. (200 rows)\n",
    "\n",
    "Q7 You need to find the ID number, first name, and last name of an actor, of\n",
    "whom you know only the first name, \"Joe.\" What is one query would you use\n",
    "to obtain this information? (1 row)\n",
    "\n",
    "Q8 Which last names are not repeated? (66 rows)\n",
    "\n",
    "Q9 List the last names of actors, as well as how many actors have that last\n",
    "\n",
    "Q10 Use JOIN to display the first and last names, as well as the address, of\n",
    "each staff member. Use the tables “staff” and “address”. (2 rows)"
   ]
  },
  {
   "cell_type": "raw",
   "metadata": {},
   "source": [
    "\n",
    "use sakila;\n",
    "\n",
    "show tables;\n",
    "\n",
    "describe actor;\n",
    "\n",
    "show create table actor;\n",
    "\n",
    "select concat(first_name,\" \",last_name) from actor;\n",
    "\n",
    "select * from actor\n",
    "where  last_name like 'Johansson';\n",
    "\n",
    "select ucase(concat(first_name,\" \",last_name)) as actor_name from actor;\n",
    "\n",
    "select * from actor\n",
    "where  first_name like 'Joe';\n",
    "\n",
    "select distinct last_name from actor; # this  will not give unique values\n",
    "\n",
    "select last_name from actor \n",
    "group by last_name \n",
    "having count(*) = 1;\n",
    "\n",
    "select * from actor\n",
    "where last_name in (select last_name from actor \n",
    "group by last_name \n",
    "having count(*) = 1);"
   ]
  },
  {
   "cell_type": "code",
   "execution_count": null,
   "metadata": {},
   "outputs": [],
   "source": []
  },
  {
   "cell_type": "raw",
   "metadata": {},
   "source": [
    "select s.first_name,s.last_name,a.address\n",
    "from staff s left join address a using(address_id);"
   ]
  },
  {
   "cell_type": "code",
   "execution_count": null,
   "metadata": {},
   "outputs": [],
   "source": []
  }
 ],
 "metadata": {
  "kernelspec": {
   "display_name": "Python 3",
   "language": "python",
   "name": "python3"
  },
  "language_info": {
   "codemirror_mode": {
    "name": "ipython",
    "version": 3
   },
   "file_extension": ".py",
   "mimetype": "text/x-python",
   "name": "python",
   "nbconvert_exporter": "python",
   "pygments_lexer": "ipython3",
   "version": "3.7.6"
  }
 },
 "nbformat": 4,
 "nbformat_minor": 4
}
