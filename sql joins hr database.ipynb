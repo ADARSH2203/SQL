{
 "cells": [
  {
   "cell_type": "markdown",
   "metadata": {},
   "source": [
    "Q)1 Write a query in SQL to display those employees who contain a letter z to \n",
    "their first name and also display their last name, department, city, and state province.(3 rows)"
   ]
  },
  {
   "cell_type": "raw",
   "metadata": {},
   "source": [
    "select e.first_name,e.last_name,e.employee_id,d.department_name,l.city,l.state_province\n",
    "from employees e inner join departments d\n",
    "on e.department_id = d.department_id\n",
    "inner join locations l\n",
    "on d.location_id=l.location_id where first_name like \"%z%\";"
   ]
  },
  {
   "cell_type": "markdown",
   "metadata": {},
   "source": [
    "Q)2 Write a query in SQL to display the job title, department id,\n",
    "full name (first and last name)of  employee,starting  dateand  end date forall  the  jobs \n",
    "which  started  on  or  after  1st January, 1993 and ending with on or before 31 August, 2000.(8 rows)"
   ]
  },
  {
   "cell_type": "raw",
   "metadata": {},
   "source": [
    "select j.job_id,e.department_id,concat(e.first_name,' ',e.last_name) full_name, j.start_date , j.end_date\n",
    " from employees e join job_history j \n",
    " on e.employee_id = j.employee_id\n",
    " where j.start_date >='1993-01-01' and end_date<='2000-08-31';\n",
    " "
   ]
  },
  {
   "cell_type": "markdown",
   "metadata": {},
   "source": [
    "Q3)Display the employee number, name (first name and last name) and \n",
    "job title for all employees whose salary is smaller than the minimum \n",
    "salary of those employees whose job title is Programmer using subquery. (44 rows)"
   ]
  },
  {
   "cell_type": "raw",
   "metadata": {},
   "source": [
    "Method1)\n",
    "select e.employee_id,concat(e.first_name,e.last_name) as name ,e.salary,j.job_title\n",
    "from employees e inner join jobs j\n",
    "on e.job_id=j.job_id\n",
    "where salary < (select min_salary from jobs where job_title =\"Programmer\"); \n"
   ]
  },
  {
   "cell_type": "raw",
   "metadata": {},
   "source": [
    "Method2)\n",
    "select e.employee_id,concat(e.first_name,e.last_name) as name ,e.salary,j.job_title\n",
    "from employees e inner join jobs j\n",
    "on e.job_id=j.job_id\n",
    "where salary < (select min(salary) from employees e inner join jobs j \n",
    "on e.job_id=j.job_id \n",
    " where job_title =\"Programmer\"); "
   ]
  },
  {
   "cell_type": "markdown",
   "metadata": {},
   "source": [
    "Q4)Write a query in SQL to display the country name, city,\n",
    "and number of those departments where at least 2 employees are working. (5 rows)"
   ]
  },
  {
   "cell_type": "raw",
   "metadata": {},
   "source": [
    "select country_name,city,count(department_id) \n",
    "from countries \n",
    "join locations using(country_id)\n",
    "join departments using(location_id)\n",
    "where department_id in \n",
    "(select department_id from employees\n",
    "group by department_id\n",
    "having count(employee_id)>=2)\n",
    "group by country_name,city;"
   ]
  },
  {
   "cell_type": "markdown",
   "metadata": {},
   "source": [
    "Q5)Write a query to fetch the employee ID, First Name, Last Name, Salary and Department ID of those employees who draw a salary \n",
    "more than the average salary of their respective department. (38 rows)"
   ]
  },
  {
   "cell_type": "raw",
   "metadata": {},
   "source": [
    "select e.employee_id, concat(e.first_name,' ',e.last_name) Name,e.salary,e.department_id \n",
    "from employees e\n",
    "where salary > (select avg(salary) from employees where department_id=e.department_id);\n"
   ]
  },
  {
   "cell_type": "markdown",
   "metadata": {},
   "source": [
    "Q6)Write a query in SQL to display the first and last name, salary, and department ID for \n",
    "those employees who earn less than the average salary, and also work at the department where the\n",
    "employee Laura is working as a first name holder. (41 rows)"
   ]
  },
  {
   "cell_type": "raw",
   "metadata": {},
   "source": [
    "select * from employees where salary<(select avg(salary) from employees) and \n",
    "department_id like (select department_id from employees where first_name like \"Laura\");"
   ]
  }
 ],
 "metadata": {
  "kernelspec": {
   "display_name": "Python 3",
   "language": "python",
   "name": "python3"
  },
  "language_info": {
   "codemirror_mode": {
    "name": "ipython",
    "version": 3
   },
   "file_extension": ".py",
   "mimetype": "text/x-python",
   "name": "python",
   "nbconvert_exporter": "python",
   "pygments_lexer": "ipython3",
   "version": "3.7.6"
  }
 },
 "nbformat": 4,
 "nbformat_minor": 4
}
