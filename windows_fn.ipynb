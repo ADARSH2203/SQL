{
 "cells": [
  {
   "cell_type": "markdown",
   "metadata": {},
   "source": [
    "FIRST VALUE\n",
    "\n",
    "display most expensive product under each cat"
   ]
  },
  {
   "cell_type": "raw",
   "metadata": {},
   "source": [
    "select *,\n",
    "first_value(product_name) over(partition by product_category order by price desc) as most_exp\n",
    "from product;"
   ]
  },
  {
   "cell_type": "markdown",
   "metadata": {},
   "source": [
    " LEAST VALUE\n",
    "\n",
    "display least expensive product\n"
   ]
  },
  {
   "cell_type": "raw",
   "metadata": {},
   "source": [
    "select *,\n",
    "first_value(product_name) over(partition by product_category order by price desc) \n",
    "as most_exp,\n",
    "last_value(product_name) over(partition by product_category order by price desc\n",
    "range between unbounded preceding and current row)    # this is called frame clause its default value                                                                             hence needs to be changed \n",
    "as least_exp;"
   ]
  },
  {
   "cell_type": "raw",
   "metadata": {},
   "source": [
    "METHOD 01\n",
    "select *,\n",
    "first_value(product_name) over(partition by product_category order by price desc) as most_exp,\n",
    "last_value(product_name) over(partition by product_category order by price desc\n",
    "range between unbounded preceding and unbounded following) as least_exp\n"
   ]
  },
  {
   "cell_type": "raw",
   "metadata": {},
   "source": [
    "METHOD 02\n",
    "select *,\n",
    "first_value(product_name) over w as most_exp,\n",
    "last_value(product_name) over w  as least_exp\n",
    "from product\n",
    "window w as (partition by product_category order by price desc \n",
    "range between unbounded preceding and unbounded following);"
   ]
  },
  {
   "cell_type": "markdown",
   "metadata": {},
   "source": [
    "display 2nd most exp product\n"
   ]
  },
  {
   "cell_type": "raw",
   "metadata": {},
   "source": [
    "# display 2nd most exp product\n",
    "select *,\n",
    "first_value(product_name) over w as most_exp,\n",
    "last_value(product_name) over w  as least_exp,\n",
    "nth_value(product_name,2) over w as sec_exp\n",
    "from product\n",
    "window w as (partition by product_category order by price desc \n",
    "range between unbounded preceding and unbounded following);"
   ]
  },
  {
   "cell_type": "markdown",
   "metadata": {},
   "source": [
    "NTILE\n",
    " \n",
    "write a query to segregate all expensive phones,mid range phones and the cheaper phones\n"
   ]
  },
  {
   "cell_type": "raw",
   "metadata": {},
   "source": [
    "# NTILE\n",
    "# write a query to segregate all expensive phones,mid range phones and the cheaper phones\n",
    "select x.product_name, \n",
    "case when x.buckets = 1 then 'Expensive Phones'\n",
    "     when x.buckets = 2 then 'Mid Range Phones'\n",
    "     when x.buckets = 3 then 'Cheaper Phones' END as Phone_Category\n",
    "from (\n",
    "    select *,\n",
    "    ntile(3) over (order by price desc) as buckets\n",
    "    from product\n",
    "    where product_category = 'Phone') x;"
   ]
  },
  {
   "cell_type": "markdown",
   "metadata": {},
   "source": [
    " CUME_DIST (cumulative distribution)\n",
    " \n",
    " \n",
    " Formula = Current Row no (or Row No with value same as current row) / Total no of rows */\n"
   ]
  },
  {
   "cell_type": "raw",
   "metadata": {},
   "source": [
    "select * ,\n",
    "cume_dist() over (order by price desc) as cummulative_dist \n",
    "from product;"
   ]
  },
  {
   "cell_type": "markdown",
   "metadata": {},
   "source": [
    "Query to fetch all products which are constituting the first 30% "
   ]
  },
  {
   "cell_type": "raw",
   "metadata": {},
   "source": [
    "select product_name, cume_dist_percetage\n",
    "from (\n",
    "    select *,\n",
    "    cume_dist() over (order by price desc) as cume_distribution,\n",
    "    round(cume_dist() over (order by price desc)::numeric * 100,2)||'%' as cume_dist_percetage\n",
    "    from product) x\n",
    "where x.cume_distribution <= 0.3;"
   ]
  }
 ],
 "metadata": {
  "kernelspec": {
   "display_name": "Python 3",
   "language": "python",
   "name": "python3"
  },
  "language_info": {
   "codemirror_mode": {
    "name": "ipython",
    "version": 3
   },
   "file_extension": ".py",
   "mimetype": "text/x-python",
   "name": "python",
   "nbconvert_exporter": "python",
   "pygments_lexer": "ipython3",
   "version": "3.7.6"
  }
 },
 "nbformat": 4,
 "nbformat_minor": 4
}
